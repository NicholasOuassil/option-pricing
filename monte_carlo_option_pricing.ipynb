{
  "nbformat": 4,
  "nbformat_minor": 0,
  "metadata": {
    "colab": {
      "name": "monte_carlo_option_pricing.ipynb",
      "provenance": [],
      "collapsed_sections": []
    },
    "kernelspec": {
      "name": "python3",
      "display_name": "Python 3"
    },
    "language_info": {
      "name": "python"
    }
  },
  "cells": [
    {
      "cell_type": "code",
      "metadata": {
        "id": "7UIgi6E1ReOj"
      },
      "source": [
        "import numpy as np\n",
        "import pandas as pd\n",
        "import scipy as sp\n",
        "import matplotlib.pyplot as plt\n",
        "import seaborn as sns"
      ],
      "execution_count": null,
      "outputs": []
    },
    {
      "cell_type": "markdown",
      "metadata": {
        "id": "rEWC-Z-vSXrV"
      },
      "source": [
        "# Vanilla Call Option\n"
      ]
    },
    {
      "cell_type": "code",
      "metadata": {
        "id": "TXBYM5epRkz6"
      },
      "source": [
        "# pricing a vanilla option\n",
        "def option_payoff(S, K, option_type):\n",
        "  payoff = 0.0\n",
        "  if option_type == \"call\":\n",
        "    payoff = max(S - K, 0)\n",
        "  elif option_type == \"put\":\n",
        "    payoff = max(K - S, 0)\n",
        "  \n",
        "  return payoff \n",
        "\n",
        "def option_moneyness(S, K, option_type):\n",
        "  moneyness = 0.0\n",
        "  if option_type == \"call\":\n",
        "    moneyness = max(np.sign(S - K), 0)\n",
        "  elif option_type == \"put\":\n",
        "    moneyness = max(np.sign(K - S), 0)\n",
        "  return moneyness "
      ],
      "execution_count": null,
      "outputs": []
    },
    {
      "cell_type": "code",
      "metadata": {
        "colab": {
          "base_uri": "https://localhost:8080/"
        },
        "id": "GJ1sMaWsSaeM",
        "outputId": "59c761ec-a436-4689-92e4-eac1ddd541b7"
      },
      "source": [
        "S0 = 100.0\n",
        "K = 105.0\n",
        "T = 0.5\n",
        "r = 0.02\n",
        "q = 0.04\n",
        "sigma = 0.3\n",
        "\n",
        "\n",
        "option_type = \"call\"\n",
        "n_steps = 100          # number of time steps \n",
        "sp.random.seed(31521)  # make result reproducible \n",
        "n_simulation = 100000   # number of simulation \n",
        "\n",
        "dt = T/n_steps\n",
        "sqrt_dt = np.sqrt(dt) \n",
        "payoff = np.zeros((n_simulation), dtype = float) \n",
        "S_end = np.zeros((n_simulation), dtype = float)\n",
        "vega_end = np.zeros((n_simulation), dtype = float)  \n",
        "y = np.zeros((n_simulation), dtype = float) \n",
        "step = range(0, int(n_steps), 1)\n",
        "\n",
        "for i in range(0, n_simulation): # inspired from class code\n",
        "  ST = S0\n",
        "  W = 0.0\n",
        "  for j in step:\n",
        "    epsilon = sp.random.normal()\n",
        "    ST *= np.exp((r - q - 0.5*sigma*sigma)*dt + sigma*epsilon*sqrt_dt)\n",
        "    W += sqrt_dt*epsilon\n",
        "  payoff[i] = option_payoff(ST, K, option_type)\n",
        "  S_end[i] = option_moneyness(ST, K, option_type)*ST\n",
        "  vega_end[i] = np.exp(-r*T) * option_moneyness(ST, K, option_type) * (ST/sigma) * (np.log(ST/S0) - (r - q + (sigma**2 / 2))*T)\n",
        "  y[i] = W \n",
        "\n",
        "option_price = np.mean(payoff)*np.exp(-r*T)\n",
        "err_price = np.std(payoff)*np.exp(-r*T)/np.sqrt(n_simulation)\n",
        "#get call delta using pathwise derivative \n",
        "\n",
        "option_delta = np.mean(S_end)*np.exp(-r*T)/S0 ## pathwise\n",
        "option_delta2 = np.mean(np.exp(-r*T) * payoff * (y/(sigma*(T)*S0))) # score function \n",
        "\n",
        "\n",
        "err_delta = np.std(S_end)*np.exp(-r*T)/S0/np.sqrt(n_simulation) ## pathwise \n",
        "err_delta2 = np.std(payoff * (y/(sigma*(T)*S0)))*np.exp(-r*T)/np.sqrt(n_simulation) ## score function\n",
        "\n",
        "#get vega using score function \n",
        "option_vega = np.mean(payoff*((y*y/T - 1)/sigma - y))*np.exp(-r*T) \n",
        "option_vega2 = np.mean(vega_end) ## pathwise\n",
        "err_vega = np.std(payoff*((y*y/T - 1)/sigma - y))*np.exp(-r*T)/np.sqrt(n_simulation)\n",
        "err_vega2 = np.std(vega_end)/np.sqrt(n_simulation)\n",
        "\n",
        "print(option_type + ' Price =', round(option_price, 6))\n",
        "print(option_type + ' Error Price =', round(err_price, 4))\n",
        "print(option_type + ' Delta (score function) =', round(option_delta2, 6))\n",
        "print(option_type + ' Delta (pathwise derivative) =', round(option_delta, 6))\n",
        "print(option_type + ' Error Delta (score function) =', round(err_delta2, 4))\n",
        "print(option_type + ' Error Delta (pathwise derivative)  =', round(err_delta, 4))\n",
        "print(option_type + ' Vega (score function) =', round(option_vega, 6)) \n",
        "print(option_type + ' Vega (pathwise derivative) =', round(option_vega2, 6)) \n",
        "print(option_type + ' Error Vega (score function) =', round(err_vega, 4))\n",
        "print(option_type + ' Error Vega (pathwise derivative) =', round(err_vega2, 4))"
      ],
      "execution_count": null,
      "outputs": [
        {
          "output_type": "stream",
          "text": [
            "call Price = 5.87479\n",
            "call Error Price = 0.0374\n",
            "call Delta (score function) = 0.422446\n",
            "call Delta (pathwise derivative) = 0.422893\n",
            "call Error Delta (score function) = 0.0037\n",
            "call Error Delta (pathwise derivative)  = 0.0018\n",
            "call Vega (score function) = 27.108541\n",
            "call Vega (pathwise derivative) = 27.194123\n",
            "call Error Vega (score function) = 0.5059\n",
            "call Error Vega (pathwise derivative) = 0.1651\n"
          ],
          "name": "stdout"
        }
      ]
    },
    {
      "cell_type": "markdown",
      "metadata": {
        "id": "eWWVSAz3Ted_"
      },
      "source": [
        "# Asian Option"
      ]
    },
    {
      "cell_type": "code",
      "metadata": {
        "colab": {
          "base_uri": "https://localhost:8080/"
        },
        "id": "U9X0ey2sTiUW",
        "outputId": "4098ffa5-807a-45bc-acd7-78fb262080a8"
      },
      "source": [
        "#Pricing average strike option using MC\n",
        "#convention: averaging starts moment after avg_start_time\n",
        "\n",
        "S0 = 100.0\n",
        "K = 105.0\n",
        "T = 0.5\n",
        "avg_start_time = 0\n",
        "r = 0.02\n",
        "q = 0.04\n",
        "sigma = 0.3\n",
        "option_type = \"call\"\n",
        "n_steps = int(200 * T) # number of time steps \n",
        "sp.random.seed(31521)  # make result reproducible \n",
        "n_simulation = 100000   # number of simulation\n",
        "\n",
        "dt = T/n_steps\n",
        "sqrt_dt = np.sqrt(dt)\n",
        "n_avg = (T - avg_start_time)/dt\n",
        "if abs(avg_start_time/dt - round(avg_start_time/dt)) > 0.00001:\n",
        "  warnings.warn('dt incompatible with avg_start_time')\n",
        "\n",
        "payoff = np.zeros((n_simulation), dtype = float)\n",
        "J_end = np.zeros((n_simulation), dtype = float) \n",
        "dj_dsigma = np.zeros((n_simulation), dtype = float) \n",
        "step = range(0, int(n_steps), 1)\n",
        "for i in range(0, n_simulation):# inspired from class code\n",
        "  ST = S0\n",
        "  sum_S = 0.0\n",
        "  t_path = 0.0\n",
        "  ds_dsigma = 0.0\n",
        "  for j in step:\n",
        "    epsilon = sp.random.normal()\n",
        "    t_path += dt\n",
        "    ST *= np.exp((r - q - 0.5*sigma**2)*dt + sigma*epsilon*sqrt_dt)\n",
        "    if t_path > avg_start_time + 0.00001:\n",
        "      sum_S += ST\n",
        "      ds_dsigma += (ST/sigma)*(np.log(ST/S0) - (r - q + ((sigma**2)/2))*t_path)\n",
        "\n",
        "\n",
        "    \n",
        "  avg_S = sum_S/n_avg\n",
        "  dj_dsigma[i] = (1/n_avg) * option_moneyness(avg_S, K, option_type) * ds_dsigma  ## added\n",
        "  payoff[i] = option_payoff(avg_S, K, option_type) # added\n",
        "    \n",
        "  J_end[i] = option_moneyness(avg_S, K, option_type)*avg_S # Added of end value\n",
        "\n",
        "option_price = np.mean(payoff)*np.exp(-r*T)\n",
        "err_price = np.std(payoff)*np.exp(-r*T)/np.sqrt(n_simulation)\n",
        "\n",
        "\n",
        "option_delta = np.mean(J_end)*np.exp(-r*T)/S0 \n",
        "err_delta = np.std(J_end)*np.exp(-r*T)/S0/np.sqrt(n_simulation)\n",
        "\n",
        "option_vega = np.mean(np.exp(-r*T)*dj_dsigma)\n",
        "err_vega = np.std(dj_dsigma)*np.exp(-r*T)/np.sqrt(n_simulation)\n",
        "\n",
        "print(option_type + ' price =', round(option_price, 6))\n",
        "print(option_type + ' err_price =', round(err_price, 4))\n",
        "\n",
        "print(option_type + ' delta =', round(option_delta, 6))\n",
        "print(option_type + ' err_delta =', round(err_delta, 4))\n",
        "\n",
        "print(option_type + ' vega =', round(option_vega, 6)) \n",
        "print(option_type + ' err_vega =', round(err_vega, 4))"
      ],
      "execution_count": null,
      "outputs": [
        {
          "output_type": "stream",
          "text": [
            "call price = 2.729126\n",
            "call err_price = 0.0187\n",
            "call delta = 0.345446\n",
            "call err_delta = 0.0017\n",
            "call vega = 15.093795\n",
            "call err_vega = 0.0901\n"
          ],
          "name": "stdout"
        }
      ]
    },
    {
      "cell_type": "code",
      "metadata": {
        "id": "71bjj8VgbmxJ"
      },
      "source": [
        "def asian_option_mc(S0, K, T, avg_start_time, r, q, sigma, option_type, seed, sim_size):\n",
        "  n_steps = 100 # number of time steps \n",
        "  sp.random.seed(seed)  # make result reproducible \n",
        "  n_simulation = sim_size   # number of simulation\n",
        "\n",
        "  dt = T/n_steps\n",
        "  sqrt_dt = np.sqrt(dt)\n",
        "  n_avg = (T - avg_start_time)/dt\n",
        "  if abs(avg_start_time/dt - round(avg_start_time/dt)) > 0.00001:\n",
        "    warnings.warn('dt incompatible with avg_start_time')\n",
        "\n",
        "  payoff = np.zeros((n_simulation), dtype = float)\n",
        "  J_end = np.zeros((n_simulation), dtype = float) \n",
        "  dj_dsigma = np.zeros((n_simulation), dtype = float) \n",
        "  step = range(0, int(n_steps), 1)\n",
        "  for i in range(0, n_simulation):\n",
        "    ST = S0\n",
        "    sum_S = 0.0\n",
        "    t_path = 0.0\n",
        "    ds_dsigma = 0.0\n",
        "    for j in step:\n",
        "      epsilon = sp.random.normal()\n",
        "      t_path += dt\n",
        "      ST *= np.exp((r - q - 0.5*sigma**2)*dt + sigma*epsilon*sqrt_dt)\n",
        "      if t_path > avg_start_time + 0.00001:\n",
        "        sum_S += ST\n",
        "        ds_dsigma += (ST/sigma)*(np.log(ST/S0) - (r - q + ((sigma**2)/2))*t_path)\n",
        "\n",
        "\n",
        "      \n",
        "    avg_S = sum_S/n_avg\n",
        "    dj_dsigma[i] = (1/n_avg) * option_moneyness(avg_S, K, option_type) * ds_dsigma \n",
        "    payoff[i] = option_payoff(avg_S, K, option_type)\n",
        "      \n",
        "    J_end[i] = option_moneyness(avg_S, K, option_type)*avg_S \n",
        "\n",
        "  option_price = np.mean(payoff)*np.exp(-r*T)\n",
        "  err_price = np.std(payoff)*np.exp(-r*T)/np.sqrt(n_simulation)\n",
        "\n",
        "  \n",
        "  option_delta = np.mean(J_end)*np.exp(-r*T)/S0 \n",
        "  err_delta = np.std(J_end)*np.exp(-r*T)/S0/np.sqrt(n_simulation)\n",
        "\n",
        "  option_vega = np.mean(np.exp(-r*T)*dj_dsigma)\n",
        "  err_vega = np.std(dj_dsigma)*np.exp(-r*T)/np.sqrt(n_simulation)\n",
        "\n",
        "  return option_price, err_price, option_delta, err_delta, option_vega, err_vega\n"
      ],
      "execution_count": null,
      "outputs": []
    },
    {
      "cell_type": "code",
      "metadata": {
        "id": "9vnDGFy27iZU"
      },
      "source": [
        "S0 = 100.0\n",
        "K = 105.0\n",
        "T = 0.5\n",
        "# avg_start_time = 0.495\n",
        "r = 0.02\n",
        "q = 0.04\n",
        "sigma = 0.3\n",
        "option_type = \"call\"\n",
        "\n",
        "avg_points = np.array([0.25, 0.325, 0.45, 0.475, 0.495])\n",
        "price = np.zeros(avg_points.shape)\n",
        "price_err = np.zeros(avg_points.shape)\n",
        "delta = np.zeros(avg_points.shape)\n",
        "delta_err = np.zeros(avg_points.shape)\n",
        "vega = np.zeros(avg_points.shape)\n",
        "vega_err = np.zeros(avg_points.shape)\n",
        "\n",
        "counter = 0\n",
        "for avg_start_time in avg_points:\n",
        "  option_data = asian_option_mc(S0,K,T, avg_start_time, r, q, sigma, option_type, 31521, 100000)\n",
        "\n",
        "  price[counter] = option_data[0]\n",
        "  price_err[counter] = option_data[1]\n",
        "  delta[counter] = option_data[2]\n",
        "  delta_err[counter] = option_data[3]\n",
        "  vega[counter] = option_data[4]\n",
        "  vega_err[counter] = option_data[5]\n",
        "  \n",
        "  counter += 1\n",
        "\n",
        "\n",
        "\n"
      ],
      "execution_count": null,
      "outputs": []
    },
    {
      "cell_type": "code",
      "metadata": {
        "id": "kcMAhxOZAX5P",
        "colab": {
          "base_uri": "https://localhost:8080/",
          "height": 204
        },
        "outputId": "c2e54622-e5ff-42d0-f8e7-6fec9210bd1a"
      },
      "source": [
        "values = pd.DataFrame({'Average Start Time (years)': avg_points, 'Price ($)':price, 'Delta':delta, 'Vega': vega})\n",
        "values"
      ],
      "execution_count": null,
      "outputs": [
        {
          "output_type": "execute_result",
          "data": {
            "text/html": [
              "<div>\n",
              "<style scoped>\n",
              "    .dataframe tbody tr th:only-of-type {\n",
              "        vertical-align: middle;\n",
              "    }\n",
              "\n",
              "    .dataframe tbody tr th {\n",
              "        vertical-align: top;\n",
              "    }\n",
              "\n",
              "    .dataframe thead th {\n",
              "        text-align: right;\n",
              "    }\n",
              "</style>\n",
              "<table border=\"1\" class=\"dataframe\">\n",
              "  <thead>\n",
              "    <tr style=\"text-align: right;\">\n",
              "      <th></th>\n",
              "      <th>Average Start Time (years)</th>\n",
              "      <th>Price ($)</th>\n",
              "      <th>Delta</th>\n",
              "      <th>Vega</th>\n",
              "    </tr>\n",
              "  </thead>\n",
              "  <tbody>\n",
              "    <tr>\n",
              "      <th>0</th>\n",
              "      <td>0.250</td>\n",
              "      <td>4.507363</td>\n",
              "      <td>0.398262</td>\n",
              "      <td>22.026837</td>\n",
              "    </tr>\n",
              "    <tr>\n",
              "      <th>1</th>\n",
              "      <td>0.325</td>\n",
              "      <td>4.952627</td>\n",
              "      <td>0.407101</td>\n",
              "      <td>23.715154</td>\n",
              "    </tr>\n",
              "    <tr>\n",
              "      <th>2</th>\n",
              "      <td>0.450</td>\n",
              "      <td>5.632168</td>\n",
              "      <td>0.419375</td>\n",
              "      <td>26.283042</td>\n",
              "    </tr>\n",
              "    <tr>\n",
              "      <th>3</th>\n",
              "      <td>0.475</td>\n",
              "      <td>5.759733</td>\n",
              "      <td>0.420515</td>\n",
              "      <td>26.754210</td>\n",
              "    </tr>\n",
              "    <tr>\n",
              "      <th>4</th>\n",
              "      <td>0.495</td>\n",
              "      <td>5.874790</td>\n",
              "      <td>0.422893</td>\n",
              "      <td>27.194123</td>\n",
              "    </tr>\n",
              "  </tbody>\n",
              "</table>\n",
              "</div>"
            ],
            "text/plain": [
              "   Average Start Time (years)  Price ($)     Delta       Vega\n",
              "0                       0.250   4.507363  0.398262  22.026837\n",
              "1                       0.325   4.952627  0.407101  23.715154\n",
              "2                       0.450   5.632168  0.419375  26.283042\n",
              "3                       0.475   5.759733  0.420515  26.754210\n",
              "4                       0.495   5.874790  0.422893  27.194123"
            ]
          },
          "metadata": {
            "tags": []
          },
          "execution_count": 13
        }
      ]
    },
    {
      "cell_type": "code",
      "metadata": {
        "id": "sC3v1vz9cPSh"
      },
      "source": [
        ""
      ],
      "execution_count": null,
      "outputs": []
    },
    {
      "cell_type": "code",
      "metadata": {
        "colab": {
          "base_uri": "https://localhost:8080/",
          "height": 382
        },
        "id": "iFpJ_LM790I_",
        "outputId": "e1daabb7-7a78-4e2a-cc99-a51478abb31a"
      },
      "source": [
        "fig = plt.figure(dpi=100)\n",
        "ax = sns.lineplot(data=values,x='Average Start Time (years)', y='Vega', color='r', marker='o') \n",
        "plt.fill_between(avg_points, vega -vega_err, vega + vega_err, color='r', alpha=0.2)\n",
        "\n",
        "plt.show()\n"
      ],
      "execution_count": null,
      "outputs": [
        {
          "output_type": "display_data",
          "data": {
            "image/png": "[encoded data removed]",
            "text/plain": [
              "<Figure size 600x400 with 1 Axes>"
            ]
          },
          "metadata": {
            "tags": [],
            "needs_background": "light"
          }
        }
      ]
    },
    {
      "cell_type": "code",
      "metadata": {
        "id": "cN_eIMO1eB9h"
      },
      "source": [
        ""
      ],
      "execution_count": null,
      "outputs": []
    }
  ]
}